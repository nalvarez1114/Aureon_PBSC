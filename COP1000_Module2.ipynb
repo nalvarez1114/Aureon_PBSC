{
  "cells": [
    {
      "cell_type": "markdown",
      "metadata": {
        "id": "view-in-github",
        "colab_type": "text"
      },
      "source": [
        "<a href=\"https://colab.research.google.com/github/nalvarez1114/Aureon_PBSC/blob/main/COP1000_Module2.ipynb\" target=\"_parent\"><img src=\"https://colab.research.google.com/assets/colab-badge.svg\" alt=\"Open In Colab\"/></a>"
      ]
    },
    {
      "cell_type": "markdown",
      "source": [
        "#**Practice Exercise 1**"
      ],
      "metadata": {
        "id": "GhpT-39-nqVa"
      },
      "id": "GhpT-39-nqVa"
    },
    {
      "cell_type": "markdown",
      "id": "caea35d2",
      "metadata": {
        "id": "caea35d2"
      },
      "source": [
        "# Data Types"
      ]
    },
    {
      "cell_type": "markdown",
      "id": "7f4237bf",
      "metadata": {
        "id": "7f4237bf"
      },
      "source": [
        "A data type is a classification of data which tells the compiler or interpreter how the programmer intends to use the data. Most programming languages support various types of data, including integer, set, character or string, and Boolean.\n",
        "https://en.wikipedia.org/wiki/Data_type"
      ]
    },
    {
      "cell_type": "markdown",
      "id": "9a3eddfc",
      "metadata": {
        "id": "9a3eddfc"
      },
      "source": [
        "\n",
        "<img src=\"https://phoenixnap.com/kb/wp-content/uploads/2021/04/Python-Data-Types-Overview.png\" width=600 height=600 />"
      ]
    },
    {
      "cell_type": "markdown",
      "id": "e64d9476",
      "metadata": {
        "id": "e64d9476"
      },
      "source": [
        "**Getting the Data Type**\n",
        "We have functions availabe to determine the type of a given variable. We 'pass' the variable to the function in the parenthesis and the function then returns the data type.\n",
        "   * *numpy* \n",
        "       * dtype()\n",
        "   * *py* \n",
        "       * type()"
      ]
    },
    {
      "cell_type": "markdown",
      "id": "6e4f8a33",
      "metadata": {
        "id": "6e4f8a33"
      },
      "source": [
        "In the code below we declare a variable x and assign a value of 23 to it. <br>\n",
        "We then pass the variable x to the type() function and then pass that to the print() function. you then see the data type returned when we run the code, but we see more than just the data type of 'int', we see **<class 'int'>**. We will discuss what a class is later in the course, but for now, let's just refer to it as some code that has been created that has attributes and or functionalities associated with it. So an int is a class that has attributes and functionalities associated with it."
      ]
    },
    {
      "cell_type": "code",
      "execution_count": null,
      "id": "661befa9",
      "metadata": {
        "id": "661befa9"
      },
      "outputs": [],
      "source": [
        "# declare a variable and print the data type\n",
        "x = 23\n",
        "print(type(x))"
      ]
    },
    {
      "cell_type": "markdown",
      "id": "8cebd30b",
      "metadata": {
        "id": "8cebd30b"
      },
      "source": [
        "**Numeric Data Types**\n",
        " * **Integer**\n",
        "   * *numpy*\n",
        "    * int\n",
        "    * uintc\n",
        "   * *py*\n",
        "    * int\n",
        " * **Floating Point**\n",
        "   * *numpy*\n",
        "    * float16 (half precision point)\n",
        "    * single\n",
        "   * *py*\n",
        "    * float    \n",
        " * **Short**\n",
        "   * *numpy*\n",
        "    * short\n",
        "     * ushort\n",
        " * **Long**\n",
        "   * *numpy*\n",
        "    * int_\n",
        "    * uint\n",
        "    * longlong\n",
        "    * ulonglong      \n",
        " * **Double**\n",
        "   * *numpy* \n",
        "    * double\n",
        "    * longdouble\n",
        " * **Decimal**"
      ]
    },
    {
      "cell_type": "code",
      "execution_count": 1,
      "id": "31d34c7a",
      "metadata": {
        "id": "31d34c7a",
        "outputId": "3e29f1a9-c808-4332-d708-683648a14421",
        "colab": {
          "base_uri": "https://localhost:8080/"
        }
      },
      "outputs": [
        {
          "output_type": "stream",
          "name": "stdout",
          "text": [
            "False\n"
          ]
        }
      ],
      "source": [
        "# We declared a string, named the variable and displayed the data type, we can if it is a number if we uncomment the last line\n",
        "my_string = \"Hello Scott\"\n",
        "type(my_string)\n",
        "print(my_string.isalnum())\n"
      ]
    },
    {
      "cell_type": "markdown",
      "id": "7d5822b4",
      "metadata": {
        "id": "7d5822b4"
      },
      "source": [
        "**Text Data Types**\n",
        " * **Character**\n",
        "   * *numpy*\n",
        "    * int\n",
        "    * uintc\n",
        "   * *py*\n",
        "    * int"
      ]
    },
    {
      "cell_type": "markdown",
      "id": "5c8bce56",
      "metadata": {
        "id": "5c8bce56"
      },
      "source": []
    },
    {
      "cell_type": "markdown",
      "id": "4232bdfb",
      "metadata": {
        "id": "4232bdfb"
      },
      "source": [
        "We then call the print() function that is built into python and 'pass' the function the value being returned by a string function called isalnum()."
      ]
    },
    {
      "cell_type": "markdown",
      "id": "0e8a2669",
      "metadata": {
        "id": "0e8a2669"
      },
      "source": [
        "**Boolean Data**<br>\n",
        "In python, Boolean is a data type that is used to store two values True or False.\n",
        "   * *numpy*\n",
        "      * bool_ \n",
        "   * *py*\n",
        "      * bool\n",
        "      \n",
        "**Machine Data** \n",
        "   * bits\n",
        "   * bytes\n",
        "   * word\n",
        "   * binary number"
      ]
    },
    {
      "cell_type": "code",
      "source": [
        "# reserved word True used, what if we used False?\n",
        "answer = True\n",
        "print(type(answer))"
      ],
      "metadata": {
        "id": "kZlnVP0LfuFk",
        "outputId": "bb08265d-a9f9-49ff-f720-63f3d7720ca5",
        "colab": {
          "base_uri": "https://localhost:8080/"
        }
      },
      "id": "kZlnVP0LfuFk",
      "execution_count": 5,
      "outputs": [
        {
          "output_type": "stream",
          "name": "stdout",
          "text": [
            "<class 'bool'>\n"
          ]
        }
      ]
    },
    {
      "cell_type": "code",
      "source": [
        "# This has an issue... true has no meaning as its not a recognized data type\n",
        "# if we changed it to \"true\" see what happens\n",
        "answer = \"true\"\n",
        "print(type(answer))"
      ],
      "metadata": {
        "id": "c1OlGPcrf7Q_",
        "outputId": "ff00ef2e-9e11-488c-8790-665d2e67725e",
        "colab": {
          "base_uri": "https://localhost:8080/"
        }
      },
      "id": "c1OlGPcrf7Q_",
      "execution_count": 6,
      "outputs": [
        {
          "output_type": "stream",
          "name": "stdout",
          "text": [
            "<class 'str'>\n"
          ]
        }
      ]
    },
    {
      "cell_type": "markdown",
      "id": "a5bac857",
      "metadata": {
        "id": "a5bac857"
      },
      "source": [
        "Below is python programming code that we declare avariable named my_string and use the =  operator to assign the value of \"Hello Scott\" to the variable. <br>\n",
        "\"Hello Scott\" is a string of characters. string and char are two text data types. \n",
        "We then call the print() function that is built into python and 'pass' the function the value being returned by a string function called isalnum()."
      ]
    },
    {
      "cell_type": "markdown",
      "id": "d700e2e9",
      "metadata": {
        "id": "d700e2e9"
      },
      "source": [
        "**Composite Data Types**\n",
        "   * Struct's\n",
        "   * Collections \n",
        "   * Lists\n",
        "   * Arrays\n",
        "**Enumerated type**\n",
        "   * Enum\n",
        "   * Factor\n",
        "                         \n",
        "**Date / Time**\n",
        "   * Date\n",
        "   * Time\n",
        "   * DateTime\n",
        "                          \n",
        "**Pointers and References**\n",
        "   * Pointers\n",
        "                          \n",
        "**Complex numbers**\n",
        "   * *numpy*\n",
        "     * csingle (two single-precision floats)\n",
        "     * cdouble (two double-precision floats)\n",
        "     * clongdouble (two extended-precision floats)\n",
        "   * *py*\n",
        "     * complex"
      ]
    },
    {
      "cell_type": "markdown",
      "id": "3e211fda",
      "metadata": {
        "id": "3e211fda"
      },
      "source": [
        "**Collection Data Types**\n",
        "* Lists\n",
        "* Tuples\n",
        "* Sets\n",
        "* Dictionaries\n"
      ]
    },
    {
      "cell_type": "markdown",
      "source": [
        "# Your Turn to code"
      ],
      "metadata": {
        "id": "JzD4noHjPqQ9"
      },
      "id": "JzD4noHjPqQ9"
    },
    {
      "cell_type": "markdown",
      "source": [
        "Now that you have gone through this first Notebook after downloading a copy to your storage space, take a moment and play with the coding box below, create new coding boxes as well as text boxes to explain what you have done... by clicking the play symbol on the left side of a code cell it will execute that cell, or you can run the entire notebook or specific cells using the runtime tab above"
      ],
      "metadata": {
        "id": "8uH09PwpPxjq"
      },
      "id": "8uH09PwpPxjq"
    },
    {
      "cell_type": "code",
      "execution_count": 7,
      "id": "550fb796",
      "metadata": {
        "id": "550fb796",
        "outputId": "f45f7a86-926a-42b8-ce56-16ac5d88790e",
        "colab": {
          "base_uri": "https://localhost:8080/"
        }
      },
      "outputs": [
        {
          "output_type": "stream",
          "name": "stdout",
          "text": [
            "Hi Professor, I created code\n"
          ]
        }
      ],
      "source": [
        "# What does this code do?\n",
        "print(\"Hi Professor, I created code\")\n",
        "#Will print the phrase, \"Hi Professor, I created code\" in the console."
      ]
    },
    {
      "cell_type": "code",
      "source": [
        "# Your code here\n",
        "print(\"I wonder how much more we can do with coding with a little more creativity?\")"
      ],
      "metadata": {
        "id": "K-MozyFfPuK6",
        "outputId": "1731d28e-383d-4ef6-bfa0-3af1dd524ea4",
        "colab": {
          "base_uri": "https://localhost:8080/"
        }
      },
      "id": "K-MozyFfPuK6",
      "execution_count": 8,
      "outputs": [
        {
          "output_type": "stream",
          "name": "stdout",
          "text": [
            "I wonder how much more we can do with coding with a little more creativity?\n"
          ]
        }
      ]
    }
  ],
  "metadata": {
    "kernelspec": {
      "display_name": "Python 3 (ipykernel)",
      "language": "python",
      "name": "python3"
    },
    "language_info": {
      "codemirror_mode": {
        "name": "ipython",
        "version": 3
      },
      "file_extension": ".py",
      "mimetype": "text/x-python",
      "name": "python",
      "nbconvert_exporter": "python",
      "pygments_lexer": "ipython3",
      "version": "3.9.7"
    },
    "colab": {
      "provenance": [],
      "toc_visible": true,
      "collapsed_sections": [],
      "include_colab_link": true
    }
  },
  "nbformat": 4,
  "nbformat_minor": 5
}